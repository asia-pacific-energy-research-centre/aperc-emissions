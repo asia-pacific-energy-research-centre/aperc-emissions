{
 "cells": [
  {
   "cell_type": "code",
   "execution_count": null,
   "metadata": {},
   "outputs": [],
   "source": [
    "#### Import libraries ####"
   ]
  },
  {
   "cell_type": "code",
   "execution_count": null,
   "metadata": {},
   "outputs": [],
   "source": [
    "import numpy as npq\n",
    "import pandas as pd\n",
    "import yaml"
   ]
  },
  {
   "cell_type": "code",
   "execution_count": null,
   "metadata": {},
   "outputs": [],
   "source": [
    "##### Define functions and import data ####"
   ]
  },
  {
   "cell_type": "code",
   "execution_count": null,
   "metadata": {},
   "outputs": [],
   "source": [
    "\n",
    "with open('../config/config.yml') as file:\n",
    "    # The FullLoader parameter handles the conversion from YAML\n",
    "    # scalar values to Python the dictionary format\n",
    "    data = yaml.load(file, Loader=yaml.FullLoader)"
   ]
  },
  {
   "cell_type": "code",
   "execution_count": null,
   "metadata": {},
   "outputs": [],
   "source": [
    "#Make a dictionary with Path to all datasheets\n",
    "data_sheets = data['FilePaths']"
   ]
  },
  {
   "cell_type": "code",
   "execution_count": null,
   "metadata": {},
   "outputs": [],
   "source": [
    "#Read in CCS configuration File and make sure it is formatted correctly\n",
    "df_CCS_share = pd.read_csv(\"../config/CCS_rates.csv\",index_col = 0, )\n",
    "df_CCS_share.columns = df_CCS_share.columns.astype(int)\n",
    "df_CCS_share = df_CCS_share.dropna(how = \"all\")"
   ]
  },
  {
   "cell_type": "code",
   "execution_count": null,
   "metadata": {},
   "outputs": [],
   "source": [
    "#Old code - May be used if there are errors with the emissions factors\n",
    "\n",
    "#df_emission = pd.read_csv(\"../data/emmsion_factoers.csv\")\n",
    "#df_emission.columns =  ['REGION','FUEL','Emission Factor(Mt_CO2/PJ)']\n",
    "#Convert From tonnes of carbon to tonnes of carbon dioxide\n",
    "#co2_per_carbon =  3.67\n",
    "#kgGJ_to_MtPJ = 1000000\n",
    "#df_emission['Emission Factor(Mt_CO2/PJ)'] =  df_emission['Emission Factor(Mt_CO2/PJ)'] *co2_per_carbon/kgGJ_to_MtPJ\n",
    "#df_emission = df_emission.set_index([\"REGION\",\"FUEL\"])\n",
    "#df_emission.to_csv(\"../config/Emissions_factors.csv\")"
   ]
  },
  {
   "cell_type": "code",
   "execution_count": null,
   "metadata": {},
   "outputs": [],
   "source": [
    "# Read in emissions data "
   ]
  },
  {
   "cell_type": "code",
   "execution_count": null,
   "metadata": {},
   "outputs": [],
   "source": [
    "df_emission = pd.read_csv(\"../config/Emissions_factors.csv\",index_col = [0,1])"
   ]
  },
  {
   "cell_type": "code",
   "execution_count": null,
   "metadata": {},
   "outputs": [],
   "source": [
    "#Set out column order for osemosys sheet"
   ]
  },
  {
   "cell_type": "code",
   "execution_count": null,
   "metadata": {},
   "outputs": [],
   "source": [
    "start_cols = [\"SCENARIO\",'REGION','TECHNOLOGY','EMISSION','MODE_OF_OPERATION','UNITS','NOTES']"
   ]
  },
  {
   "cell_type": "code",
   "execution_count": null,
   "metadata": {},
   "outputs": [],
   "source": [
    "end_cols =  [*range(2017,2071)]"
   ]
  },
  {
   "cell_type": "code",
   "execution_count": null,
   "metadata": {},
   "outputs": [],
   "source": [
    "all_cols = start_cols + end_cols"
   ]
  },
  {
   "cell_type": "code",
   "execution_count": null,
   "metadata": {},
   "outputs": [],
   "source": [
    "#This function generates a emissions \"co2\" factor By fuel. \n",
    "\n",
    "def demand_emissions(df_data_sheet,Emission_map):\n",
    "    df_EmissionActivityRatio = df_data_sheet.merge(right =df_emission, left_on= ['REGION',\"FUEL\"], right_index=True)\n",
    "    df_EmissionActivityRatio.iloc[:,6:-1] = df_EmissionActivityRatio.iloc[:,6:-1].mul(df_EmissionActivityRatio.loc[:,'Emission Factor(Mt_CO2/PJ)'],axis =0 ) *1000\n",
    "    #df_EmissionActivityRatio = df_EmissionActivityRatio.set_index(\"REGION\",\"TECHNOLOGY\",\"FUEL\").groupby([\"REGION\",\"TECHNOLOGY\"]).sum()\n",
    "    #df_EmissionActivityRatio = df_EmissionActivityRatio.reset_index()\n",
    "    df_EmissionActivityRatio[\"EMISSION\"] = df_EmissionActivityRatio[\"FUEL\"].astype(str) + \"_CO2\"\n",
    "    df_EmissionActivityRatio = df_EmissionActivityRatio.drop([\"FUEL\",'Emission Factor(Mt_CO2/PJ)'],axis =1 )\n",
    "    df_EmissionActivityRatio[\"MODE_OF_OPERATION\"] = 1\n",
    "    df_EmissionActivityRatio[\"UNITS\"] = \"Mt CO2 per PJ\"\n",
    "    df_EmissionActivityRatio[\"NOTES\"] = np.nan\n",
    "\n",
    "\n",
    "\n",
    "    return df_EmissionActivityRatio"
   ]
  },
  {
   "cell_type": "code",
   "execution_count": null,
   "metadata": {},
   "outputs": [],
   "source": [
    "### Calculate emissions factors ###\n",
    "#Run through Data sheets applying the above function. If the scenario column is not present Add it and include emissions for both scenarios"
   ]
  },
  {
   "cell_type": "code",
   "execution_count": null,
   "metadata": {},
   "outputs": [],
   "source": [
    "df_emissions_activity = pd.DataFrame()\n",
    "\n",
    "for paths in data_sheets:\n",
    "    input_activity = pd.read_excel(data_sheets[paths], sheet_name = \"InputActivityRatio\", header=0)\n",
    "    print (\"reading \" + f'{paths} at {data_sheets[paths]}')\n",
    "    try: \n",
    "        EmissionActivityRatio = demand_emissions(input_activity,df_emission)\n",
    "        EmissionActivityRatio = EmissionActivityRatio[all_cols]\n",
    "        #EmissionActivityRatio.to_excel(data['Output_location']+ \"EmissionActivityRatio\" + paths+\".xlsx\" ,index= False)\n",
    "    except:\n",
    "        EmissionActivityRatio = demand_emissions(input_activity,df_emission)\n",
    "        EmissionActivityRatio[\"SCENARIO\"] = \"Net-zero\"\n",
    "        EmissionActivityRatio = EmissionActivityRatio[all_cols]\n",
    "        df_emissions_activity = pd.concat([df_emissions_activity,EmissionActivityRatio])\n",
    "        EmissionActivityRatio[\"SCENARIO\"] = \"Reference\"\n",
    "        #EmissionActivityRatio.to_excel(data['Output_location']+ \"EmissionActivityRatio\" + paths+\".xlsx\" ,index= False)\n",
    "    df_emissions_activity = pd.concat([df_emissions_activity,EmissionActivityRatio])\n",
    "    print (\"done \" + f'{paths}')\n",
    "print(\"done\")    "
   ]
  },
  {
   "cell_type": "code",
   "execution_count": null,
   "metadata": {},
   "outputs": [],
   "source": [
    "### Make adjustments for technologies that use CCS ####"
   ]
  },
  {
   "cell_type": "code",
   "execution_count": null,
   "metadata": {},
   "outputs": [],
   "source": [
    "df_emissions_activity = df_emissions_activity.reset_index(drop = True)\n",
    "\n",
    "#Find all strings containing \"ccs\"\n",
    "df_CCS = df_emissions_activity[df_emissions_activity[\"TECHNOLOGY\"].str.contains('ccs')]\n",
    "\n",
    "#Make a new data frame for the captured portion of the emissions\n",
    "df_captured  = df_emissions_activity.iloc[df_CCS.index].copy()\n",
    "#Make a new column So you can index by sector\n",
    "df_captured[\"SECTOER\"] = df_captured.loc[:,\"TECHNOLOGY\"].str.split(\"_\").str[0]"
   ]
  },
  {
   "cell_type": "code",
   "execution_count": null,
   "metadata": {},
   "outputs": [],
   "source": [
    "#Filter the default ccs factors For each sector or from the technology\n",
    "\n",
    "df_CCS_share = df_CCS_share.reset_index()\n",
    "defult_CCS_share = df_CCS_share.set_index(\"TECHNOLOGY\").filter(regex = \"_DEF\", axis=0)\n",
    "CCS_share  = df_CCS_share.set_index(\"TECHNOLOGY\").drop(defult_CCS_share.index)"
   ]
  },
  {
   "cell_type": "code",
   "execution_count": null,
   "metadata": {},
   "outputs": [],
   "source": [
    "#Clean up the default factors removing the \"_DEF\" string and make a new index For the sector\n",
    "defult_CCS_share = defult_CCS_share.reset_index()\n",
    "defult_CCS_share[\"SECTOER\"] = defult_CCS_share[\"TECHNOLOGY\"].str.split(\"_\").str[0]\n",
    "defult_CCS_share = defult_CCS_share.drop(\"TECHNOLOGY\",axis =1 )\n",
    "defult_CCS_share = defult_CCS_share.set_index(\"SECTOER\")"
   ]
  },
  {
   "cell_type": "code",
   "execution_count": null,
   "metadata": {},
   "outputs": [],
   "source": [
    "#Set the index on the Data frame to include the sectorIndex index"
   ]
  },
  {
   "cell_type": "code",
   "execution_count": null,
   "metadata": {},
   "outputs": [],
   "source": [
    "df_captured = df_captured.set_index([\"SCENARIO\",'REGION',\"SECTOER\",'TECHNOLOGY','EMISSION','MODE_OF_OPERATION','UNITS','NOTES'])\n",
    "#Make sure column values are integers\n",
    "df_captured.columns = df_captured.columns.astype(int)"
   ]
  },
  {
   "cell_type": "code",
   "execution_count": null,
   "metadata": {},
   "outputs": [],
   "source": [
    "#Apply the default factors to all ccs technologies then drop Technologies that have a specific CCS factor\n",
    "df_captured_def =df_captured.mul(defult_CCS_share, level = 2).drop(CCS_share.index, level = \"TECHNOLOGY\", axis = 0)\n",
    "df_captured_sep=df_captured.mul(CCS_share, level = 3 ).dropna(how = \"all\")\n",
    "df_captured = pd.concat([df_captured_sep,df_captured_def]).sort_index()"
   ]
  },
  {
   "cell_type": "code",
   "execution_count": null,
   "metadata": {
    "jupyter": {
     "source_hidden": true
    }
   },
   "outputs": [],
   "source": [
    "#Drop the Sector level\n",
    "df_captured = df_captured.droplevel(level =2 )"
   ]
  },
  {
   "cell_type": "code",
   "execution_count": null,
   "metadata": {},
   "outputs": [],
   "source": [
    "#Subtract captured emissions from total emissions\n",
    "df_emissions_activity = df_emissions_activity.set_index(start_cols)\n",
    "df_captured = df_captured.reset_index().set_index(start_cols)\n",
    "df_emissions_activity = df_emissions_activity.sub(df_captured,fill_value= 0).dropna(how = \"all\")"
   ]
  },
  {
   "cell_type": "code",
   "execution_count": null,
   "metadata": {},
   "outputs": [],
   "source": [
    "#Rename captured emissions from CO2 to CCS and reset the indexes in the correct format\n",
    "df_captured = df_captured.reset_index(level=3)\n",
    "df_captured.loc[:,\"EMISSION\"] = df_captured[\"EMISSION\"].str.replace(\"CO2\",\"CCS\",regex = True )\n",
    "df_captured = df_captured.reset_index().set_index(start_cols)"
   ]
  },
  {
   "cell_type": "code",
   "execution_count": null,
   "metadata": {},
   "outputs": [],
   "source": [
    "#Bring together then Emitted and captured CO2 data frames and reset the indexes\n",
    "df_emissions_activity = pd.concat([df_emissions_activity,df_captured]).reset_index()"
   ]
  },
  {
   "cell_type": "code",
   "execution_count": null,
   "metadata": {},
   "outputs": [],
   "source": [
    "#Save to excel file\n",
    "df_emissions_activity.to_excel(data['Output_location']+ \"EmissionActivityRatio\" + pd.Timestamp(\"today\").strftime(\"%m-%d-%Y-%S\") +\".xlsx\" ,index= False)"
   ]
  },
  {
   "cell_type": "code",
   "execution_count": null,
   "metadata": {},
   "outputs": [],
   "source": []
  },
  {
   "cell_type": "code",
   "execution_count": null,
   "metadata": {},
   "outputs": [],
   "source": []
  }
 ],
 "metadata": {
  "kernelspec": {
   "display_name": "Python 3",
   "language": "python",
   "name": "python3"
  },
  "language_info": {
   "codemirror_mode": {
    "name": "ipython",
    "version": 3
   },
   "file_extension": ".py",
   "mimetype": "text/x-python",
   "name": "python",
   "nbconvert_exporter": "python",
   "pygments_lexer": "ipython3",
   "version": "3.7.6"
  }
 },
 "nbformat": 4,
 "nbformat_minor": 4
}
