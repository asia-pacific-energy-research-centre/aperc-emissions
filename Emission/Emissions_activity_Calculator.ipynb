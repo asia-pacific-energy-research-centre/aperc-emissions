{
 "cells": [
  {
   "cell_type": "code",
   "execution_count": null,
   "metadata": {},
   "outputs": [],
   "source": [
    "import numpy as np\n",
    "import pandas as pd\n",
    "import yaml"
   ]
  },
  {
   "cell_type": "code",
   "execution_count": 311,
   "metadata": {},
   "outputs": [],
   "source": [
    "\n",
    "with open('./config.yml') as file:\n",
    "    # The FullLoader parameter handles the conversion from YAML\n",
    "    # scalar values to Python the dictionary format\n",
    "    data = yaml.load(file, Loader=yaml.FullLoader)"
   ]
  },
  {
   "cell_type": "code",
   "execution_count": 369,
   "metadata": {},
   "outputs": [
    {
     "ename": "AttributeError",
     "evalue": "'Timestamp' object has no attribute 'Timestamp'",
     "output_type": "error",
     "traceback": [
      "\u001b[1;31m---------------------------------------------------------------------------\u001b[0m",
      "\u001b[1;31mAttributeError\u001b[0m                            Traceback (most recent call last)",
      "\u001b[1;32m<ipython-input-369-e05bb535cd23>\u001b[0m in \u001b[0;36m<module>\u001b[1;34m\u001b[0m\n\u001b[1;32m----> 1\u001b[1;33m \u001b[0mtime\u001b[0m \u001b[1;33m=\u001b[0m \u001b[0mpd\u001b[0m\u001b[1;33m.\u001b[0m\u001b[0mto_datetime\u001b[0m\u001b[1;33m(\u001b[0m\u001b[1;34m'today'\u001b[0m\u001b[1;33m)\u001b[0m\u001b[1;33m.\u001b[0m\u001b[0mnormalize\u001b[0m\u001b[1;33m(\u001b[0m\u001b[1;33m)\u001b[0m\u001b[1;33m.\u001b[0m\u001b[0mTimestamp\u001b[0m\u001b[1;33m(\u001b[0m\u001b[1;34m'2015-10-14 00:00:00'\u001b[0m\u001b[1;33m)\u001b[0m\u001b[1;33m\u001b[0m\u001b[1;33m\u001b[0m\u001b[0m\n\u001b[0m",
      "\u001b[1;31mAttributeError\u001b[0m: 'Timestamp' object has no attribute 'Timestamp'"
     ]
    }
   ],
   "source": [
    "time = pd.to_datetime('today').normalize().Timestamp('2015-10-14 00:00:00')"
   ]
  },
  {
   "cell_type": "code",
   "execution_count": 374,
   "metadata": {},
   "outputs": [
    {
     "data": {
      "text/plain": [
       "'03/03/2021'"
      ]
     },
     "execution_count": 374,
     "metadata": {},
     "output_type": "execute_result"
    }
   ],
   "source": [
    "pd.Timestamp(\"today\").strftime(\"%m/%d/%Y\")"
   ]
  },
  {
   "cell_type": "code",
   "execution_count": 312,
   "metadata": {},
   "outputs": [],
   "source": [
    "data_sheets = data['FilePaths']"
   ]
  },
  {
   "cell_type": "code",
   "execution_count": 313,
   "metadata": {},
   "outputs": [
    {
     "data": {
      "text/plain": [
       "{'AGR': './data/data-sheet-agriculture.xlsx',\n",
       " 'BLD': './data/data-sheet-buildings.xlsx',\n",
       " 'IND': './data/data-sheet-industry.xlsx',\n",
       " 'TRN': './data/data-sheet-transport.xlsx',\n",
       " 'OWN': './data/data-sheet-ownuse.xlsx',\n",
       " 'PIP': './data/data-sheet-pipeline transport.xlsx',\n",
       " 'NON': './data/data-sheet-nonspecified.xlsx'}"
      ]
     },
     "execution_count": 313,
     "metadata": {},
     "output_type": "execute_result"
    }
   ],
   "source": [
    "data_sheets"
   ]
  },
  {
   "cell_type": "markdown",
   "metadata": {},
   "source": [
    "#### Read in emissions data and mapping file and format"
   ]
  },
  {
   "cell_type": "code",
   "execution_count": 314,
   "metadata": {},
   "outputs": [],
   "source": [
    "# Read in emissions data"
   ]
  },
  {
   "cell_type": "code",
   "execution_count": 315,
   "metadata": {},
   "outputs": [],
   "source": [
    "IPCC_Emission = pd.read_excel(data['Maping_File'], sheet_name = \"Emission Factors\", header=0,index_col=\"Fuel type \")"
   ]
  },
  {
   "cell_type": "code",
   "execution_count": 316,
   "metadata": {},
   "outputs": [],
   "source": [
    "# Read in maping sheet sheet"
   ]
  },
  {
   "cell_type": "code",
   "execution_count": 317,
   "metadata": {},
   "outputs": [],
   "source": [
    "IPCC_map = pd.read_excel(data['Maping_File'] , sheet_name = \"MAP\", header=1,index_col=\"Fuel type\")"
   ]
  },
  {
   "cell_type": "code",
   "execution_count": 318,
   "metadata": {},
   "outputs": [],
   "source": [
    "#Select only the columns that are going to be used In the emissions file. "
   ]
  },
  {
   "cell_type": "code",
   "execution_count": 319,
   "metadata": {},
   "outputs": [],
   "source": [
    "IPCC_Emission = IPCC_Emission[[\"Default Carbon content(kg/GJ)\"]]"
   ]
  },
  {
   "cell_type": "code",
   "execution_count": 320,
   "metadata": {},
   "outputs": [],
   "source": [
    "\n",
    "\n",
    "IPCC_Emission.columns = [\"Carbon content(kg/GJ)\"]"
   ]
  },
  {
   "cell_type": "code",
   "execution_count": 321,
   "metadata": {},
   "outputs": [],
   "source": [
    "#Join emissions data EGEDA maping file. "
   ]
  },
  {
   "cell_type": "code",
   "execution_count": 322,
   "metadata": {},
   "outputs": [],
   "source": [
    "Emission_egeda = IPCC_map.join(IPCC_Emission,on=\"Fuel type\")"
   ]
  },
  {
   "cell_type": "code",
   "execution_count": 323,
   "metadata": {},
   "outputs": [],
   "source": [
    "Emission_egeda = Emission_egeda.dropna()"
   ]
  },
  {
   "cell_type": "code",
   "execution_count": 324,
   "metadata": {},
   "outputs": [],
   "source": [
    "Emission_egeda= Emission_egeda.set_index(['Fuel','Account'])"
   ]
  },
  {
   "cell_type": "code",
   "execution_count": 325,
   "metadata": {},
   "outputs": [],
   "source": [
    "# Set biomass emissions to 0"
   ]
  },
  {
   "cell_type": "code",
   "execution_count": 326,
   "metadata": {},
   "outputs": [],
   "source": [
    "Emission_egeda.loc[pd.IndexSlice[:,\"LULUCF\"],:] = 0"
   ]
  },
  {
   "cell_type": "code",
   "execution_count": 327,
   "metadata": {},
   "outputs": [],
   "source": [
    "Emission_egeda = Emission_egeda.droplevel(level = 1, axis =0)"
   ]
  },
  {
   "cell_type": "code",
   "execution_count": 328,
   "metadata": {},
   "outputs": [],
   "source": [
    "#Drop 2017 fuel names "
   ]
  },
  {
   "cell_type": "code",
   "execution_count": 329,
   "metadata": {},
   "outputs": [],
   "source": [
    "Emission_egeda = Emission_egeda.drop(2017, axis =1 )"
   ]
  },
  {
   "cell_type": "code",
   "execution_count": 330,
   "metadata": {},
   "outputs": [],
   "source": [
    "#Convert From tonnes of carbon to tonnes of carbon dioxide"
   ]
  },
  {
   "cell_type": "code",
   "execution_count": 331,
   "metadata": {},
   "outputs": [],
   "source": [
    "Emission_egeda = Emission_egeda*3.67/1000000"
   ]
  },
  {
   "cell_type": "code",
   "execution_count": 332,
   "metadata": {},
   "outputs": [],
   "source": [
    "Emission_egeda.index = Emission_egeda.index.rename(\"FUEL\")"
   ]
  },
  {
   "cell_type": "code",
   "execution_count": null,
   "metadata": {},
   "outputs": [],
   "source": []
  },
  {
   "cell_type": "code",
   "execution_count": 333,
   "metadata": {},
   "outputs": [],
   "source": [
    "#Set out column order for osemosys sheet"
   ]
  },
  {
   "cell_type": "code",
   "execution_count": 334,
   "metadata": {},
   "outputs": [],
   "source": [
    "start_cols = [\"SCENARIO\",'REGION','TECHNOLOGY','EMISSION','MODE_OF_OPERATION','UNITS','NOTES']"
   ]
  },
  {
   "cell_type": "code",
   "execution_count": 335,
   "metadata": {},
   "outputs": [],
   "source": [
    "end_cols =  [*range(2017,2071)]"
   ]
  },
  {
   "cell_type": "code",
   "execution_count": 336,
   "metadata": {},
   "outputs": [],
   "source": [
    "all_cols = start_cols + end_cols"
   ]
  },
  {
   "cell_type": "code",
   "execution_count": null,
   "metadata": {},
   "outputs": [],
   "source": []
  },
  {
   "cell_type": "code",
   "execution_count": 337,
   "metadata": {},
   "outputs": [],
   "source": [
    "#Not being used currently\n",
    "\n",
    "#This function generates a single emissions \"co2\" factor for each Technology. \n",
    "\n",
    "#def demand_emissions_by_tech_co2(df_data_sheet,Emission_map):\n",
    "#    df_EmissionActivityRatio = df_data_sheet.merge(right = Emission_map, left_on= [\"FUEL\"], right_index=True)\n",
    "#    df_EmissionActivityRatio.iloc[:,6:-1] = df_EmissionActivityRatio.iloc[:,6:-1].mul(df_EmissionActivityRatio.loc[:,\"Carbon content(kg/GJ)\"],axis =0 ) *1000\n",
    "#    df_EmissionActivityRatio = df_EmissionActivityRatio.set_index(\"REGION\",\"TECHNOLOGY\",\"FUEL\").groupby([\"REGION\",\"TECHNOLOGY\"]).sum()\n",
    "#    df_EmissionActivityRatio = df_EmissionActivityRatio.reset_index()\n",
    "#    df_EmissionActivityRatio[\"MODE_OF_OPERATION\"] = 1\n",
    "#    df_EmissionActivityRatio[\"UNITS\"] = 'Mt CO2 per PJ\"\n",
    "#    df_EmissionActivityRatio[\"NOTES\"] = np.nan\n",
    "#    df_EmissionActivityRatio[\"EMISSION\"] = \"CO2\"\n",
    "#    df_EmissionActivityRatio[\"SCENARIO\"] = \"Current\"\n",
    "\n",
    "#    return df_EmissionActivityRatio"
   ]
  },
  {
   "cell_type": "code",
   "execution_count": 338,
   "metadata": {},
   "outputs": [],
   "source": [
    "#This function generates a emissions \"co2\" factor By fuel. \n",
    "\n",
    "def demand_emissions(df_data_sheet,Emission_map):\n",
    "    df_EmissionActivityRatio = df_data_sheet.merge(right = Emission_map, left_on= [\"FUEL\"], right_index=True)\n",
    "    df_EmissionActivityRatio.iloc[:,6:-1] = df_EmissionActivityRatio.iloc[:,6:-1].mul(df_EmissionActivityRatio.loc[:,\"Carbon content(kg/GJ)\"],axis =0 ) *1000\n",
    "    #df_EmissionActivityRatio = df_EmissionActivityRatio.set_index(\"REGION\",\"TECHNOLOGY\",\"FUEL\").groupby([\"REGION\",\"TECHNOLOGY\"]).sum()\n",
    "    #df_EmissionActivityRatio = df_EmissionActivityRatio.reset_index()\n",
    "    df_EmissionActivityRatio[\"EMISSION\"] = df_EmissionActivityRatio[\"FUEL\"].astype(str) + \"_CO2\"\n",
    "    df_EmissionActivityRatio = df_EmissionActivityRatio.drop([\"FUEL\",\"Carbon content(kg/GJ)\"],axis =1 )\n",
    "    df_EmissionActivityRatio[\"MODE_OF_OPERATION\"] = 1\n",
    "    df_EmissionActivityRatio[\"UNITS\"] = \"Mt CO2 per PJ\"\n",
    "    df_EmissionActivityRatio[\"NOTES\"] = np.nan\n",
    "\n",
    "\n",
    "\n",
    "    return df_EmissionActivityRatio"
   ]
  },
  {
   "cell_type": "code",
   "execution_count": 339,
   "metadata": {},
   "outputs": [],
   "source": [
    "#Run through Data sheets applying the above function. If the scenario column is not present Add it and include emissions for both scenarios"
   ]
  },
  {
   "cell_type": "code",
   "execution_count": 340,
   "metadata": {},
   "outputs": [
    {
     "name": "stdout",
     "output_type": "stream",
     "text": [
      "reading AGR at ./data/data-sheet-agriculture.xlsx\n",
      " Saved to ./data/data-sheet-agriculture.xlsx\n",
      " Saved to ./data/data-sheet-agriculture.xlsx\n",
      "reading BLD at ./data/data-sheet-buildings.xlsx\n",
      " Saved to ./data/data-sheet-buildings.xlsx\n",
      "reading IND at ./data/data-sheet-industry.xlsx\n",
      " Saved to ./data/data-sheet-industry.xlsx\n",
      "reading TRN at ./data/data-sheet-transport.xlsx\n",
      " Saved to ./data/data-sheet-transport.xlsx\n",
      " Saved to ./data/data-sheet-transport.xlsx\n",
      "reading OWN at ./data/data-sheet-ownuse.xlsx\n",
      " Saved to ./data/data-sheet-ownuse.xlsx\n",
      "reading PIP at ./data/data-sheet-pipeline transport.xlsx\n",
      " Saved to ./data/data-sheet-pipeline transport.xlsx\n",
      "reading NON at ./data/data-sheet-nonspecified.xlsx\n",
      " Saved to ./data/data-sheet-nonspecified.xlsx\n"
     ]
    }
   ],
   "source": [
    "df_emissions_activity = pd.DataFrame()\n",
    "\n",
    "for paths in data_sheets:\n",
    "    input_activity = pd.read_excel(data_sheets[paths], sheet_name = \"InputActivityRatio\", header=0)\n",
    "    print (\"reading \" + f'{paths} at {data_sheets[paths]}')\n",
    "    try: \n",
    "        EmissionActivityRatio = demand_emissions(input_activity,Emission_egeda)\n",
    "        EmissionActivityRatio = EmissionActivityRatio[all_cols]\n",
    "        #EmissionActivityRatio.to_excel(data['Output_location']+ \"EmissionActivityRatio\" + paths+\".xlsx\" ,index= False)\n",
    "        print ( f' Saved to {data_sheets[paths]}')\n",
    "    except:\n",
    "        EmissionActivityRatio = demand_emissions(input_activity,Emission_egeda)\n",
    "        EmissionActivityRatio[\"SCENARIO\"] = \"Net-zero\"\n",
    "        EmissionActivityRatio = EmissionActivityRatio[all_cols]\n",
    "        df_emissions_activity = pd.concat([df_emissions_activity,EmissionActivityRatio])\n",
    "        EmissionActivityRatio[\"SCENARIO\"] = \"Reference\"\n",
    "        #EmissionActivityRatio.to_excel(data['Output_location']+ \"EmissionActivityRatio\" + paths+\".xlsx\" ,index= False)\n",
    "    df_emissions_activity = pd.concat([df_emissions_activity,EmissionActivityRatio])\n",
    "    print ( f' Saved to {data_sheets[paths]}')\n",
    "    "
   ]
  },
  {
   "cell_type": "code",
   "execution_count": null,
   "metadata": {},
   "outputs": [],
   "source": []
  },
  {
   "cell_type": "code",
   "execution_count": 341,
   "metadata": {},
   "outputs": [],
   "source": [
    "#Refresh the index "
   ]
  },
  {
   "cell_type": "code",
   "execution_count": 342,
   "metadata": {},
   "outputs": [],
   "source": [
    "df_emissions_activity = df_emissions_activity.reset_index(drop = True)"
   ]
  },
  {
   "cell_type": "code",
   "execution_count": 343,
   "metadata": {},
   "outputs": [],
   "source": [
    "#Find All technologies that contain ccs in name "
   ]
  },
  {
   "cell_type": "code",
   "execution_count": 344,
   "metadata": {},
   "outputs": [],
   "source": [
    "df_CCS = df_emissions_activity[df_emissions_activity[\"TECHNOLOGY\"].str.contains('ccs')]"
   ]
  },
  {
   "cell_type": "code",
   "execution_count": 345,
   "metadata": {},
   "outputs": [],
   "source": [
    "#Make a new data frame with captured emissions"
   ]
  },
  {
   "cell_type": "code",
   "execution_count": 346,
   "metadata": {},
   "outputs": [],
   "source": [
    "df_captured  = df_emissions_activity.iloc[df_CCS.index]"
   ]
  },
  {
   "cell_type": "code",
   "execution_count": 347,
   "metadata": {},
   "outputs": [],
   "source": [
    "#Multiply by the share of captured emissions"
   ]
  },
  {
   "cell_type": "code",
   "execution_count": 348,
   "metadata": {},
   "outputs": [],
   "source": [
    "df_captured.iloc[:,7:] *= 0.8"
   ]
  },
  {
   "cell_type": "code",
   "execution_count": null,
   "metadata": {},
   "outputs": [],
   "source": []
  },
  {
   "cell_type": "code",
   "execution_count": 349,
   "metadata": {},
   "outputs": [],
   "source": [
    "df_captured.loc[:,\"EMISSION\"] = df_captured[\"EMISSION\"].str.replace(\"CO2\",\"CCS\",regex = True )"
   ]
  },
  {
   "cell_type": "code",
   "execution_count": 350,
   "metadata": {},
   "outputs": [],
   "source": [
    "df_emissions_activity.iloc[ccs.index,7:] *= 0.2"
   ]
  },
  {
   "cell_type": "code",
   "execution_count": 351,
   "metadata": {},
   "outputs": [],
   "source": [
    "df_emissions_activity = pd.concat([df_emissions_activity,df_captured])"
   ]
  },
  {
   "cell_type": "code",
   "execution_count": 376,
   "metadata": {},
   "outputs": [],
   "source": [
    "df_emissions_activity.to_excel(data['Output_location']+ \"EmissionActivityRatio\" + pd.Timestamp(\"today\").strftime(\"%m-%d-%Y-%S\") +\".xlsx\" ,index= False)"
   ]
  },
  {
   "cell_type": "code",
   "execution_count": null,
   "metadata": {},
   "outputs": [],
   "source": []
  }
 ],
 "metadata": {
  "kernelspec": {
   "display_name": "Python 3",
   "language": "python",
   "name": "python3"
  },
  "language_info": {
   "codemirror_mode": {
    "name": "ipython",
    "version": 3
   },
   "file_extension": ".py",
   "mimetype": "text/x-python",
   "name": "python",
   "nbconvert_exporter": "python",
   "pygments_lexer": "ipython3",
   "version": "3.7.6"
  }
 },
 "nbformat": 4,
 "nbformat_minor": 4
}
