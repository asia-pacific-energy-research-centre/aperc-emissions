{
 "cells": [
  {
   "cell_type": "code",
   "execution_count": 99,
   "metadata": {},
   "outputs": [],
   "source": [
    "import numpy as np\n",
    "import pandas as pd"
   ]
  },
  {
   "cell_type": "code",
   "execution_count": null,
   "metadata": {},
   "outputs": [],
   "source": []
  },
  {
   "cell_type": "code",
   "execution_count": null,
   "metadata": {},
   "outputs": [],
   "source": [
    "Emissions_activity_Calculator"
   ]
  },
  {
   "cell_type": "code",
   "execution_count": 173,
   "metadata": {},
   "outputs": [],
   "source": [
    "IPCC_Emission = pd.read_excel(\"../../data/raw/IPCC Methodology to EGEDA map.xlsx\", sheet_name = \"Emission Factors\", header=0)"
   ]
  },
  {
   "cell_type": "code",
   "execution_count": 174,
   "metadata": {},
   "outputs": [],
   "source": [
    "IPCC_map = pd.read_excel(\"../../data/raw/IPCC Methodology to EGEDA map.xlsx\", sheet_name = \"MAP\", header=1)"
   ]
  },
  {
   "cell_type": "code",
   "execution_count": 175,
   "metadata": {},
   "outputs": [],
   "source": [
    "IPCC_Emission = pd.read_excel(\"../../data/raw/IPCC Methodology to EGEDA map.xlsx\", sheet_name = \"Emission Factors\", header=0)"
   ]
  },
  {
   "cell_type": "code",
   "execution_count": 176,
   "metadata": {},
   "outputs": [],
   "source": [
    "Tran = pd.read_excel(\"../../data/raw/data-sheet-transport.xlsx\", sheet_name = \"InputActivityRatio\", header=0)"
   ]
  },
  {
   "cell_type": "code",
   "execution_count": 177,
   "metadata": {},
   "outputs": [],
   "source": [
    "IPCC_map.columns = [\"Account\", \"ipcc_fuel\", \"egeda_fuel\"]"
   ]
  },
  {
   "cell_type": "code",
   "execution_count": 178,
   "metadata": {},
   "outputs": [
    {
     "data": {
      "text/plain": [
       "Index(['Fuel type ', 'Default Carbon content\\n(kg/GJ)', 'Lower', 'Upper',\n",
       "       'Unnamed: 4', 'Default Carbon content2\\n(kg/GJ)'],\n",
       "      dtype='object')"
      ]
     },
     "execution_count": 178,
     "metadata": {},
     "output_type": "execute_result"
    }
   ],
   "source": [
    "IPCC_Emission.columns"
   ]
  },
  {
   "cell_type": "code",
   "execution_count": 179,
   "metadata": {},
   "outputs": [],
   "source": [
    "IPCC_Emission = IPCC_Emission[['Fuel type ',\"Default Carbon content2\\n(kg/GJ)\"]]"
   ]
  },
  {
   "cell_type": "code",
   "execution_count": 180,
   "metadata": {},
   "outputs": [],
   "source": [
    "IPCC_Emission.columns = [\"ipcc_fuel\",\"Carbon content(kg/GJ)\"]"
   ]
  },
  {
   "cell_type": "code",
   "execution_count": 181,
   "metadata": {},
   "outputs": [],
   "source": [
    "IPCC_Emission= IPCC_Emission.set_index(\"ipcc_fuel\").iloc[:-3,:]"
   ]
  },
  {
   "cell_type": "code",
   "execution_count": 182,
   "metadata": {},
   "outputs": [],
   "source": [
    "IPCC_map = IPCC_map.set_index(\"ipcc_fuel\").iloc[:-3,:]"
   ]
  },
  {
   "cell_type": "code",
   "execution_count": 183,
   "metadata": {},
   "outputs": [],
   "source": [
    "Emission_egeda = IPCC_map.join(IPCC_Emission)"
   ]
  },
  {
   "cell_type": "code",
   "execution_count": 184,
   "metadata": {},
   "outputs": [],
   "source": [
    "Emission_egeda = Emission_egeda.dropna()"
   ]
  },
  {
   "cell_type": "code",
   "execution_count": 185,
   "metadata": {},
   "outputs": [],
   "source": [
    "Emission_egeda = Emission_egeda.set_index([\"egeda_fuel\",\"Account\"])"
   ]
  },
  {
   "cell_type": "code",
   "execution_count": 186,
   "metadata": {},
   "outputs": [],
   "source": [
    "Emission_egeda.loc[pd.IndexSlice[:,\"LULUCF\"],:] = 0"
   ]
  },
  {
   "cell_type": "code",
   "execution_count": 187,
   "metadata": {},
   "outputs": [],
   "source": [
    "Emission_egeda = Emission_egeda.droplevel(level = 1, axis =0)"
   ]
  },
  {
   "cell_type": "code",
   "execution_count": 188,
   "metadata": {},
   "outputs": [],
   "source": [
    "EmissionActivityRatio = Tran.merge(right = Emission_egeda, left_on= \"FUEL\", right_index=True)"
   ]
  },
  {
   "cell_type": "code",
   "execution_count": 189,
   "metadata": {},
   "outputs": [],
   "source": [
    "EmissionActivityRatio.iloc[:,6:-1] = EmissionActivityRatio.iloc[:,6:-1].mul(EmissionActivityRatio.loc[:,\"Carbon content(kg/GJ)\"],axis =0 ) *1000"
   ]
  },
  {
   "cell_type": "code",
   "execution_count": 190,
   "metadata": {},
   "outputs": [],
   "source": [
    "EmissionActivityRatio.drop([\"FUEL\",\"Carbon content(kg/GJ)\"],axis =1, inplace = True  )"
   ]
  },
  {
   "cell_type": "code",
   "execution_count": 191,
   "metadata": {},
   "outputs": [],
   "source": [
    "EmissionActivityRatio[\"EMISSION\"] = \"CO2\"\n"
   ]
  },
  {
   "cell_type": "code",
   "execution_count": 192,
   "metadata": {},
   "outputs": [],
   "source": [
    "cols = list(EmissionActivityRatio.columns.values) #Make a list of all of the columns in the df\n",
    "#cols.pop(cols.index('b')) #Remove b from list\n",
    "#cols.pop(cols.index('x')) #Remove x from list\n",
    "#df = df[cols+['b','x']]"
   ]
  },
  {
   "cell_type": "code",
   "execution_count": 193,
   "metadata": {},
   "outputs": [],
   "source": [
    "start_cols = ['REGION','TECHNOLOGY','EMISSION','MODE_OF_OPERATION','UNITS','NOTES']"
   ]
  },
  {
   "cell_type": "code",
   "execution_count": 194,
   "metadata": {},
   "outputs": [],
   "source": [
    "for c in start_cols:\n",
    "    cols.remove(c)"
   ]
  },
  {
   "cell_type": "code",
   "execution_count": 195,
   "metadata": {},
   "outputs": [],
   "source": [
    "EmissionActivityRatio = EmissionActivityRatio[start_cols+cols]"
   ]
  },
  {
   "cell_type": "code",
   "execution_count": 196,
   "metadata": {},
   "outputs": [],
   "source": [
    "EmissionActivityRatio = EmissionActivityRatio.sort_index()"
   ]
  },
  {
   "cell_type": "code",
   "execution_count": 198,
   "metadata": {},
   "outputs": [],
   "source": [
    "EmissionActivityRatio.to_excel(\"EmissionActivityRatio.xlsx\",index=False)"
   ]
  },
  {
   "cell_type": "code",
   "execution_count": null,
   "metadata": {},
   "outputs": [],
   "source": []
  },
  {
   "cell_type": "code",
   "execution_count": null,
   "metadata": {},
   "outputs": [],
   "source": []
  }
 ],
 "metadata": {
  "kernelspec": {
   "display_name": "Python 3",
   "language": "python",
   "name": "python3"
  },
  "language_info": {
   "codemirror_mode": {
    "name": "ipython",
    "version": 3
   },
   "file_extension": ".py",
   "mimetype": "text/x-python",
   "name": "python",
   "nbconvert_exporter": "python",
   "pygments_lexer": "ipython3",
   "version": "3.7.6"
  }
 },
 "nbformat": 4,
 "nbformat_minor": 4
}
